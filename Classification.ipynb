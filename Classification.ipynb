{
  "nbformat": 4,
  "nbformat_minor": 0,
  "metadata": {
    "colab": {
      "provenance": [],
      "gpuType": "T4",
      "authorship_tag": "ABX9TyMvOcC02N4fzqfVRZKZCKMs",
      "include_colab_link": true
    },
    "kernelspec": {
      "name": "python3",
      "display_name": "Python 3"
    },
    "language_info": {
      "name": "python"
    },
    "accelerator": "GPU",
    "gpuClass": "standard"
  },
  "cells": [
    {
      "cell_type": "markdown",
      "metadata": {
        "id": "view-in-github",
        "colab_type": "text"
      },
      "source": [
        "<a href=\"https://colab.research.google.com/github/greg881203/Pytorch/blob/main/Classification.ipynb\" target=\"_parent\"><img src=\"https://colab.research.google.com/assets/colab-badge.svg\" alt=\"Open In Colab\"/></a>"
      ]
    },
    {
      "cell_type": "code",
      "execution_count": 1,
      "metadata": {
        "id": "0watvwYZkvcO"
      },
      "outputs": [],
      "source": [
        "import torch\n"
      ]
    },
    {
      "cell_type": "code",
      "source": [
        "from sklearn.datasets import make_circles\n",
        "\n",
        "\n",
        "# Make 1000 samples \n",
        "n_samples = 1000\n",
        "\n",
        "# Create circles\n",
        "X, y = make_circles(n_samples,\n",
        "            noise=0.03, # a little bit of noise to the dots\n",
        "            random_state=42) # keep random state so we get the same values"
      ],
      "metadata": {
        "id": "a9zuN8QYkz8v"
      },
      "execution_count": 2,
      "outputs": []
    },
    {
      "cell_type": "code",
      "source": [
        "print(f\"First 5 X features:\\n{X[:5]}\")\n",
        "print(f\"\\nFirst 5 y labels:\\n{y[:5]}\")"
      ],
      "metadata": {
        "colab": {
          "base_uri": "https://localhost:8080/"
        },
        "id": "ptwK9xAylTi-",
        "outputId": "4399987c-3bc2-4f48-924f-f3528f69894e"
      },
      "execution_count": 3,
      "outputs": [
        {
          "output_type": "stream",
          "name": "stdout",
          "text": [
            "First 5 X features:\n",
            "[[ 0.75424625  0.23148074]\n",
            " [-0.75615888  0.15325888]\n",
            " [-0.81539193  0.17328203]\n",
            " [-0.39373073  0.69288277]\n",
            " [ 0.44220765 -0.89672343]]\n",
            "\n",
            "First 5 y labels:\n",
            "[1 1 1 1 0]\n"
          ]
        }
      ]
    },
    {
      "cell_type": "code",
      "source": [
        "# Make DataFrame of circle data\n",
        "import pandas as pd\n",
        "circles = pd.DataFrame({ \"X1\": X[:, 0],\n",
        "              \"X2\": X[:, 1],\n",
        "              \"label\": y })\n",
        "circles.head(10)"
      ],
      "metadata": {
        "colab": {
          "base_uri": "https://localhost:8080/",
          "height": 363
        },
        "id": "HT6wgfBOqHNs",
        "outputId": "c2efd175-45e4-4bca-8904-e9654431004b"
      },
      "execution_count": 4,
      "outputs": [
        {
          "output_type": "execute_result",
          "data": {
            "text/plain": [
              "         X1        X2  label\n",
              "0  0.754246  0.231481      1\n",
              "1 -0.756159  0.153259      1\n",
              "2 -0.815392  0.173282      1\n",
              "3 -0.393731  0.692883      1\n",
              "4  0.442208 -0.896723      0\n",
              "5 -0.479646  0.676435      1\n",
              "6 -0.013648  0.803349      1\n",
              "7  0.771513  0.147760      1\n",
              "8 -0.169322 -0.793456      1\n",
              "9 -0.121486  1.021509      0"
            ],
            "text/html": [
              "\n",
              "  <div id=\"df-e4189318-de98-4aa9-89cc-4d3f54109a6b\">\n",
              "    <div class=\"colab-df-container\">\n",
              "      <div>\n",
              "<style scoped>\n",
              "    .dataframe tbody tr th:only-of-type {\n",
              "        vertical-align: middle;\n",
              "    }\n",
              "\n",
              "    .dataframe tbody tr th {\n",
              "        vertical-align: top;\n",
              "    }\n",
              "\n",
              "    .dataframe thead th {\n",
              "        text-align: right;\n",
              "    }\n",
              "</style>\n",
              "<table border=\"1\" class=\"dataframe\">\n",
              "  <thead>\n",
              "    <tr style=\"text-align: right;\">\n",
              "      <th></th>\n",
              "      <th>X1</th>\n",
              "      <th>X2</th>\n",
              "      <th>label</th>\n",
              "    </tr>\n",
              "  </thead>\n",
              "  <tbody>\n",
              "    <tr>\n",
              "      <th>0</th>\n",
              "      <td>0.754246</td>\n",
              "      <td>0.231481</td>\n",
              "      <td>1</td>\n",
              "    </tr>\n",
              "    <tr>\n",
              "      <th>1</th>\n",
              "      <td>-0.756159</td>\n",
              "      <td>0.153259</td>\n",
              "      <td>1</td>\n",
              "    </tr>\n",
              "    <tr>\n",
              "      <th>2</th>\n",
              "      <td>-0.815392</td>\n",
              "      <td>0.173282</td>\n",
              "      <td>1</td>\n",
              "    </tr>\n",
              "    <tr>\n",
              "      <th>3</th>\n",
              "      <td>-0.393731</td>\n",
              "      <td>0.692883</td>\n",
              "      <td>1</td>\n",
              "    </tr>\n",
              "    <tr>\n",
              "      <th>4</th>\n",
              "      <td>0.442208</td>\n",
              "      <td>-0.896723</td>\n",
              "      <td>0</td>\n",
              "    </tr>\n",
              "    <tr>\n",
              "      <th>5</th>\n",
              "      <td>-0.479646</td>\n",
              "      <td>0.676435</td>\n",
              "      <td>1</td>\n",
              "    </tr>\n",
              "    <tr>\n",
              "      <th>6</th>\n",
              "      <td>-0.013648</td>\n",
              "      <td>0.803349</td>\n",
              "      <td>1</td>\n",
              "    </tr>\n",
              "    <tr>\n",
              "      <th>7</th>\n",
              "      <td>0.771513</td>\n",
              "      <td>0.147760</td>\n",
              "      <td>1</td>\n",
              "    </tr>\n",
              "    <tr>\n",
              "      <th>8</th>\n",
              "      <td>-0.169322</td>\n",
              "      <td>-0.793456</td>\n",
              "      <td>1</td>\n",
              "    </tr>\n",
              "    <tr>\n",
              "      <th>9</th>\n",
              "      <td>-0.121486</td>\n",
              "      <td>1.021509</td>\n",
              "      <td>0</td>\n",
              "    </tr>\n",
              "  </tbody>\n",
              "</table>\n",
              "</div>\n",
              "      <button class=\"colab-df-convert\" onclick=\"convertToInteractive('df-e4189318-de98-4aa9-89cc-4d3f54109a6b')\"\n",
              "              title=\"Convert this dataframe to an interactive table.\"\n",
              "              style=\"display:none;\">\n",
              "        \n",
              "  <svg xmlns=\"http://www.w3.org/2000/svg\" height=\"24px\"viewBox=\"0 0 24 24\"\n",
              "       width=\"24px\">\n",
              "    <path d=\"M0 0h24v24H0V0z\" fill=\"none\"/>\n",
              "    <path d=\"M18.56 5.44l.94 2.06.94-2.06 2.06-.94-2.06-.94-.94-2.06-.94 2.06-2.06.94zm-11 1L8.5 8.5l.94-2.06 2.06-.94-2.06-.94L8.5 2.5l-.94 2.06-2.06.94zm10 10l.94 2.06.94-2.06 2.06-.94-2.06-.94-.94-2.06-.94 2.06-2.06.94z\"/><path d=\"M17.41 7.96l-1.37-1.37c-.4-.4-.92-.59-1.43-.59-.52 0-1.04.2-1.43.59L10.3 9.45l-7.72 7.72c-.78.78-.78 2.05 0 2.83L4 21.41c.39.39.9.59 1.41.59.51 0 1.02-.2 1.41-.59l7.78-7.78 2.81-2.81c.8-.78.8-2.07 0-2.86zM5.41 20L4 18.59l7.72-7.72 1.47 1.35L5.41 20z\"/>\n",
              "  </svg>\n",
              "      </button>\n",
              "      \n",
              "  <style>\n",
              "    .colab-df-container {\n",
              "      display:flex;\n",
              "      flex-wrap:wrap;\n",
              "      gap: 12px;\n",
              "    }\n",
              "\n",
              "    .colab-df-convert {\n",
              "      background-color: #E8F0FE;\n",
              "      border: none;\n",
              "      border-radius: 50%;\n",
              "      cursor: pointer;\n",
              "      display: none;\n",
              "      fill: #1967D2;\n",
              "      height: 32px;\n",
              "      padding: 0 0 0 0;\n",
              "      width: 32px;\n",
              "    }\n",
              "\n",
              "    .colab-df-convert:hover {\n",
              "      background-color: #E2EBFA;\n",
              "      box-shadow: 0px 1px 2px rgba(60, 64, 67, 0.3), 0px 1px 3px 1px rgba(60, 64, 67, 0.15);\n",
              "      fill: #174EA6;\n",
              "    }\n",
              "\n",
              "    [theme=dark] .colab-df-convert {\n",
              "      background-color: #3B4455;\n",
              "      fill: #D2E3FC;\n",
              "    }\n",
              "\n",
              "    [theme=dark] .colab-df-convert:hover {\n",
              "      background-color: #434B5C;\n",
              "      box-shadow: 0px 1px 3px 1px rgba(0, 0, 0, 0.15);\n",
              "      filter: drop-shadow(0px 1px 2px rgba(0, 0, 0, 0.3));\n",
              "      fill: #FFFFFF;\n",
              "    }\n",
              "  </style>\n",
              "\n",
              "      <script>\n",
              "        const buttonEl =\n",
              "          document.querySelector('#df-e4189318-de98-4aa9-89cc-4d3f54109a6b button.colab-df-convert');\n",
              "        buttonEl.style.display =\n",
              "          google.colab.kernel.accessAllowed ? 'block' : 'none';\n",
              "\n",
              "        async function convertToInteractive(key) {\n",
              "          const element = document.querySelector('#df-e4189318-de98-4aa9-89cc-4d3f54109a6b');\n",
              "          const dataTable =\n",
              "            await google.colab.kernel.invokeFunction('convertToInteractive',\n",
              "                                                     [key], {});\n",
              "          if (!dataTable) return;\n",
              "\n",
              "          const docLinkHtml = 'Like what you see? Visit the ' +\n",
              "            '<a target=\"_blank\" href=https://colab.research.google.com/notebooks/data_table.ipynb>data table notebook</a>'\n",
              "            + ' to learn more about interactive tables.';\n",
              "          element.innerHTML = '';\n",
              "          dataTable['output_type'] = 'display_data';\n",
              "          await google.colab.output.renderOutput(dataTable, element);\n",
              "          const docLink = document.createElement('div');\n",
              "          docLink.innerHTML = docLinkHtml;\n",
              "          element.appendChild(docLink);\n",
              "        }\n",
              "      </script>\n",
              "    </div>\n",
              "  </div>\n",
              "  "
            ]
          },
          "metadata": {},
          "execution_count": 4
        }
      ]
    },
    {
      "cell_type": "code",
      "source": [],
      "metadata": {
        "id": "4kk56mCGrTmu"
      },
      "execution_count": 4,
      "outputs": []
    },
    {
      "cell_type": "code",
      "source": [
        "# Visualize with a plot\n",
        "import matplotlib.pyplot as plt\n",
        "plt.scatter(x=X[:, 0], \n",
        "      y=X[:, 1], \n",
        "      c=y, \n",
        "      cmap=plt.cm.RdYlBu);"
      ],
      "metadata": {
        "colab": {
          "base_uri": "https://localhost:8080/",
          "height": 430
        },
        "id": "_v0Sfol7qHTo",
        "outputId": "12cbce74-4adc-499e-bf1c-d618ab52665c"
      },
      "execution_count": 5,
      "outputs": [
        {
          "output_type": "display_data",
          "data": {
            "text/plain": [
              "<Figure size 640x480 with 1 Axes>"
            ],
            "image/png": "[encoded data removed]"
          },
          "metadata": {}
        }
      ]
    },
    {
      "cell_type": "code",
      "source": [
        "import seaborn as sns\n",
        "sns.lmplot(x = 'X1', y = \"X2\", hue = 'label', fit_reg=False, data = circles)\n",
        "plt.show()"
      ],
      "metadata": {
        "colab": {
          "base_uri": "https://localhost:8080/",
          "height": 507
        },
        "id": "TUUlzwLfqHWQ",
        "outputId": "aa49a920-e049-4ddf-9809-eeaa3dfc6581"
      },
      "execution_count": 6,
      "outputs": [
        {
          "output_type": "display_data",
          "data": {
            "text/plain": [
              "<Figure size 558.875x500 with 1 Axes>"
            ],
            "image/png": "[encoded data removed]"
          },
          "metadata": {}
        }
      ]
    },
    {
      "cell_type": "code",
      "source": [
        "# len(circles)\n",
        "# X.shape , y.shape"
      ],
      "metadata": {
        "id": "qRcN5RPm89gI"
      },
      "execution_count": 7,
      "outputs": []
    },
    {
      "cell_type": "code",
      "source": [
        "# train_split = int(0.8 * len(circles))\n",
        "# x_train , y_train = X[:train_split] , y[:train_split]\n",
        "# x_test , y_test = X[train_split:] , y[train_split:]\n",
        "# len(x_train),len(y_train),len(x_test),len(x_test)\n",
        "# x_train.shape , y_train.shape , x_test.shape , y_test.shape"
      ],
      "metadata": {
        "id": "fBjlY3Bu7z_E"
      },
      "execution_count": 8,
      "outputs": []
    },
    {
      "cell_type": "markdown",
      "source": [
        "### Check input and output shapes"
      ],
      "metadata": {
        "id": "4Ej6R2emHK3A"
      }
    },
    {
      "cell_type": "code",
      "source": [
        "X.shape , y.shape"
      ],
      "metadata": {
        "colab": {
          "base_uri": "https://localhost:8080/"
        },
        "id": "COHatm0R70Fg",
        "outputId": "156770c2-08f1-4e35-eae3-ef4f96b50c3b"
      },
      "execution_count": 9,
      "outputs": [
        {
          "output_type": "execute_result",
          "data": {
            "text/plain": [
              "((1000, 2), (1000,))"
            ]
          },
          "metadata": {},
          "execution_count": 9
        }
      ]
    },
    {
      "cell_type": "code",
      "source": [
        "X"
      ],
      "metadata": {
        "colab": {
          "base_uri": "https://localhost:8080/"
        },
        "id": "vWgglfPG70ID",
        "outputId": "bd818939-1d75-4ba5-c4f9-6f9a6c602183"
      },
      "execution_count": 10,
      "outputs": [
        {
          "output_type": "execute_result",
          "data": {
            "text/plain": [
              "array([[ 0.75424625,  0.23148074],\n",
              "       [-0.75615888,  0.15325888],\n",
              "       [-0.81539193,  0.17328203],\n",
              "       ...,\n",
              "       [-0.13690036, -0.81001183],\n",
              "       [ 0.67036156, -0.76750154],\n",
              "       [ 0.28105665,  0.96382443]])"
            ]
          },
          "metadata": {},
          "execution_count": 10
        }
      ]
    },
    {
      "cell_type": "code",
      "source": [
        "# View the first example of features and labels\n",
        "X_sample = X[0]\n",
        "y_sample = y[0]\n",
        "print(f\"Values for one sample of X: {X_sample} and the same for y: {y_sample}\")\n",
        "print(f\"Shapes for one sample of X: {X_sample.shape} and the same for y: {y_sample.shape}\")"
      ],
      "metadata": {
        "colab": {
          "base_uri": "https://localhost:8080/"
        },
        "id": "7PBuriET70K1",
        "outputId": "e63a2fbf-ae45-43f2-bfa6-7915f1630570"
      },
      "execution_count": 11,
      "outputs": [
        {
          "output_type": "stream",
          "name": "stdout",
          "text": [
            "Values for one sample of X: [0.75424625 0.23148074] and the same for y: 1\n",
            "Shapes for one sample of X: (2,) and the same for y: ()\n"
          ]
        }
      ]
    },
    {
      "cell_type": "markdown",
      "source": [
        "### Turn data into tensors and create train and test splits"
      ],
      "metadata": {
        "id": "8ZVzFJ3fH_Vd"
      }
    },
    {
      "cell_type": "code",
      "source": [
        "import torch\n",
        "torch.__version__"
      ],
      "metadata": {
        "colab": {
          "base_uri": "https://localhost:8080/",
          "height": 35
        },
        "id": "1qA68onRIGXN",
        "outputId": "cefed760-7864-42ab-b370-a4c66ac41d40"
      },
      "execution_count": 12,
      "outputs": [
        {
          "output_type": "execute_result",
          "data": {
            "text/plain": [
              "'2.0.1+cu118'"
            ],
            "application/vnd.google.colaboratory.intrinsic+json": {
              "type": "string"
            }
          },
          "metadata": {},
          "execution_count": 12
        }
      ]
    },
    {
      "cell_type": "code",
      "source": [
        "type(X) ,X.dtype"
      ],
      "metadata": {
        "colab": {
          "base_uri": "https://localhost:8080/"
        },
        "id": "YG7pXGEGIT_J",
        "outputId": "d7650233-278d-481d-f3ca-765a8bb395bb"
      },
      "execution_count": 13,
      "outputs": [
        {
          "output_type": "execute_result",
          "data": {
            "text/plain": [
              "(numpy.ndarray, dtype('float64'))"
            ]
          },
          "metadata": {},
          "execution_count": 13
        }
      ]
    },
    {
      "cell_type": "code",
      "source": [
        "# Turn the data into tensors\n",
        "X = torch.from_numpy(X).type(torch.float)\n",
        "y = torch.from_numpy(y).type(torch.float)"
      ],
      "metadata": {
        "id": "1ogmiROD70NG"
      },
      "execution_count": 14,
      "outputs": []
    },
    {
      "cell_type": "code",
      "source": [
        "type(X) ,type(y) ,X.dtype ,y.dtype"
      ],
      "metadata": {
        "colab": {
          "base_uri": "https://localhost:8080/"
        },
        "id": "G6msxMZE70Pm",
        "outputId": "6373948e-8a69-463d-f5f7-06f06bbea498"
      },
      "execution_count": 15,
      "outputs": [
        {
          "output_type": "execute_result",
          "data": {
            "text/plain": [
              "(torch.Tensor, torch.Tensor, torch.float32, torch.float32)"
            ]
          },
          "metadata": {},
          "execution_count": 15
        }
      ]
    },
    {
      "cell_type": "code",
      "source": [
        "# Split data into train and test sets\n",
        "from sklearn.model_selection import train_test_split\n",
        "\n",
        "X_train , X_test , y_train , y_test = train_test_split( X , \n",
        "                                 y ,\n",
        "                                 test_size = 0.2,\n",
        "                                 random_state=42)"
      ],
      "metadata": {
        "id": "RSgGD6uG70Sf"
      },
      "execution_count": 16,
      "outputs": []
    },
    {
      "cell_type": "code",
      "source": [
        "len(X_train) ,len(X_test), len(y_train)  ,len(y_test) "
      ],
      "metadata": {
        "colab": {
          "base_uri": "https://localhost:8080/"
        },
        "id": "VM5XiGH3H4Sw",
        "outputId": "9061ecf2-a2ca-4492-fe03-60014d545733"
      },
      "execution_count": 17,
      "outputs": [
        {
          "output_type": "execute_result",
          "data": {
            "text/plain": [
              "(800, 200, 800, 200)"
            ]
          },
          "metadata": {},
          "execution_count": 17
        }
      ]
    },
    {
      "cell_type": "markdown",
      "source": [
        "## Building a model\n",
        "* Setting up device agnostic code (so our model can run on CPU or GPU if it's available).\n",
        "* Constructing a model by subclassing nn.Module.\n",
        "* Defining a loss function and optimizer.\n",
        "* Creating a training loop (this'll be in the next section)."
      ],
      "metadata": {
        "id": "efznd1tvKulZ"
      }
    },
    {
      "cell_type": "code",
      "source": [
        "# Check for GPU\n",
        "import torch\n",
        "from torch import nn\n",
        "\n",
        "device = \"cuda\" if torch.cuda.is_available() else \"cpu\"\n",
        "device"
      ],
      "metadata": {
        "colab": {
          "base_uri": "https://localhost:8080/",
          "height": 35
        },
        "id": "eEQmL3DoH4Vf",
        "outputId": "c75b5cfc-1128-415c-e173-ac8675b03b13"
      },
      "execution_count": 18,
      "outputs": [
        {
          "output_type": "execute_result",
          "data": {
            "text/plain": [
              "'cuda'"
            ],
            "application/vnd.google.colaboratory.intrinsic+json": {
              "type": "string"
            }
          },
          "metadata": {},
          "execution_count": 18
        }
      ]
    },
    {
      "cell_type": "code",
      "source": [
        "X_train"
      ],
      "metadata": {
        "colab": {
          "base_uri": "https://localhost:8080/"
        },
        "id": "qlkJXOZlH4YM",
        "outputId": "4c07448c-155d-4e21-9ded-8779e1283de7"
      },
      "execution_count": 19,
      "outputs": [
        {
          "output_type": "execute_result",
          "data": {
            "text/plain": [
              "tensor([[ 0.6579, -0.4651],\n",
              "        [ 0.6319, -0.7347],\n",
              "        [-1.0086, -0.1240],\n",
              "        ...,\n",
              "        [ 0.0157, -1.0300],\n",
              "        [ 1.0110,  0.1680],\n",
              "        [ 0.5578, -0.5709]])"
            ]
          },
          "metadata": {},
          "execution_count": 19
        }
      ]
    },
    {
      "cell_type": "markdown",
      "source": [
        "1.Subclasses nn.Module (almost all PyTorch models are subclasses of nn.Module).\n",
        "\n",
        "2.Creates 2 nn.Linear layers in the constructor capable of handling the input and output shapes of X and y.\n",
        "\n",
        "3.Defines a forward() method containing the forward pass computation of the model.\n",
        "\n",
        "4.Instantiates the model class and sends it to the target device."
      ],
      "metadata": {
        "id": "i7W5L6ZIM9vA"
      }
    },
    {
      "cell_type": "code",
      "source": [
        "# 1. Construct a model class that subclasses nn.Module\n",
        "class CircleModelV0(nn.Module):\n",
        "    def __init__(self):\n",
        "        super().__init__()\n",
        "        # 2. Create 2 nn.Linear layers capable of handling X and y input and output shapes\n",
        "        self.layer_1 = nn.Linear(in_features=2, out_features=5) # takes in 2 features (X), produces 5 features\n",
        "        self.layer_2 = nn.Linear(in_features=5, out_features=1) # takes in 5 features, produces 1 feature (y)\n",
        "    \n",
        "    # 3. Define a forward method containing the forward pass computation\n",
        "    def forward(self, x):\n",
        "        # Return the output of layer_2, a single feature, the same shape as y\n",
        "        return self.layer_2(self.layer_1(x)) # computation goes through layer_1 first then the output of layer_1 goes through layer_2\n",
        "\n",
        "# 4. Create an instance of the model and send it to target device\n",
        "model_0 = CircleModelV0().to(device)\n",
        "model_0"
      ],
      "metadata": {
        "colab": {
          "base_uri": "https://localhost:8080/"
        },
        "id": "8l_CiObdH4as",
        "outputId": "ac0f6022-9a04-497e-baa4-becbc70a8b48"
      },
      "execution_count": 20,
      "outputs": [
        {
          "output_type": "execute_result",
          "data": {
            "text/plain": [
              "CircleModelV0(\n",
              "  (layer_1): Linear(in_features=2, out_features=5, bias=True)\n",
              "  (layer_2): Linear(in_features=5, out_features=1, bias=True)\n",
              ")"
            ]
          },
          "metadata": {},
          "execution_count": 20
        }
      ]
    },
    {
      "cell_type": "code",
      "source": [
        "device"
      ],
      "metadata": {
        "colab": {
          "base_uri": "https://localhost:8080/",
          "height": 35
        },
        "id": "Iq2eV8_YH4dU",
        "outputId": "4aeccd04-6f8b-4033-d360-9adeb06c811e"
      },
      "execution_count": 21,
      "outputs": [
        {
          "output_type": "execute_result",
          "data": {
            "text/plain": [
              "'cuda'"
            ],
            "application/vnd.google.colaboratory.intrinsic+json": {
              "type": "string"
            }
          },
          "metadata": {},
          "execution_count": 21
        }
      ]
    },
    {
      "cell_type": "code",
      "source": [
        "model_0 = nn.Sequential(\n",
        "    nn.Linear(in_features = 2, out_features = 5),\n",
        "    nn.Linear(in_features = 5 , out_features = 1)\n",
        ").to(device)\n",
        "model_0"
      ],
      "metadata": {
        "colab": {
          "base_uri": "https://localhost:8080/"
        },
        "id": "_ZppikN0PGT9",
        "outputId": "096b4c42-0bd3-43a0-83f0-50bb6ebf155d"
      },
      "execution_count": 22,
      "outputs": [
        {
          "output_type": "execute_result",
          "data": {
            "text/plain": [
              "Sequential(\n",
              "  (0): Linear(in_features=2, out_features=5, bias=True)\n",
              "  (1): Linear(in_features=5, out_features=1, bias=True)\n",
              ")"
            ]
          },
          "metadata": {},
          "execution_count": 22
        }
      ]
    },
    {
      "cell_type": "code",
      "source": [
        "model_0.state_dict()"
      ],
      "metadata": {
        "colab": {
          "base_uri": "https://localhost:8080/"
        },
        "id": "f2V6R7uCPGX4",
        "outputId": "d8ce7803-4b34-40a1-d205-f5c20c8041d0"
      },
      "execution_count": 23,
      "outputs": [
        {
          "output_type": "execute_result",
          "data": {
            "text/plain": [
              "OrderedDict([('0.weight',\n",
              "              tensor([[-0.0684,  0.4999],\n",
              "                      [-0.3565,  0.6293],\n",
              "                      [ 0.0824, -0.6760],\n",
              "                      [ 0.6239,  0.6017],\n",
              "                      [-0.2412,  0.4749]], device='cuda:0')),\n",
              "             ('0.bias',\n",
              "              tensor([ 0.1112,  0.3088,  0.0778, -0.0545,  0.4977], device='cuda:0')),\n",
              "             ('1.weight',\n",
              "              tensor([[0.3005, 0.2098, 0.1935, 0.3044, 0.1113]], device='cuda:0')),\n",
              "             ('1.bias', tensor([-0.2909], device='cuda:0'))])"
            ]
          },
          "metadata": {},
          "execution_count": 23
        }
      ]
    },
    {
      "cell_type": "code",
      "source": [
        "# Make predictions with the model\n",
        "untrained_preds = model_0(X_test.to(device))\n",
        "print(f\"Length of predictions: {len(untrained_preds)}, Shape: {untrained_preds.shape}\")\n",
        "print(f\"Length of test samples: {len(y_test)}, Shape: {y_test.shape}\")\n",
        "print(f\"\\nFirst 10 predictions:\\n{untrained_preds[:10]}\")\n",
        "print(f\"\\nFirst 10 test labels:\\n{y_test[:10]}\")"
      ],
      "metadata": {
        "colab": {
          "base_uri": "https://localhost:8080/"
        },
        "id": "zNLdS4oEPGbG",
        "outputId": "1e62e404-474e-4e5e-b3bf-69fad4210890"
      },
      "execution_count": 24,
      "outputs": [
        {
          "output_type": "stream",
          "name": "stdout",
          "text": [
            "Length of predictions: 200, Shape: torch.Size([200, 1])\n",
            "Length of test samples: 200, Shape: torch.Size([200])\n",
            "\n",
            "First 10 predictions:\n",
            "tensor([[ 0.0942],\n",
            "        [ 0.2344],\n",
            "        [-0.3196],\n",
            "        [ 0.2117],\n",
            "        [-0.3934],\n",
            "        [-0.3073],\n",
            "        [ 0.1458],\n",
            "        [ 0.0188],\n",
            "        [-0.3159],\n",
            "        [ 0.2430]], device='cuda:0', grad_fn=<SliceBackward0>)\n",
            "\n",
            "First 10 test labels:\n",
            "tensor([1., 0., 1., 0., 1., 1., 0., 0., 1., 0.])\n"
          ]
        }
      ]
    },
    {
      "cell_type": "markdown",
      "source": [
        "### Set loss funciotn and optimizer"
      ],
      "metadata": {
        "id": "TDs_UBEza98g"
      }
    },
    {
      "cell_type": "code",
      "source": [
        "# Create a loss function\n",
        "# loss_fn = nn.BCELoss() # BCELoss = no sigmoid built-in\n",
        "loss_fn = nn.BCEWithLogitsLoss() # BCEWithLogitsLoss = sigmoid built-in\n",
        "\n",
        "# Create an optimizer\n",
        "optimizer = torch.optim.SGD(params=model_0.parameters(), \n",
        "                            lr=0.1)"
      ],
      "metadata": {
        "id": "71Imph60a8y8"
      },
      "execution_count": 25,
      "outputs": []
    },
    {
      "cell_type": "code",
      "source": [
        "# Caculate accuracy\n",
        "def accuracy_fn(y_true,y_pred):\n",
        "  correct = torch.eq(y_pred,y_true).sum().item()\n",
        "  acc = (correct / len(y_pred))*100\n",
        "  return acc"
      ],
      "metadata": {
        "id": "kDLyVd2wa7u8"
      },
      "execution_count": 26,
      "outputs": []
    },
    {
      "cell_type": "markdown",
      "source": [
        "## Train model"
      ],
      "metadata": {
        "id": "6xANnp2AfuUJ"
      }
    },
    {
      "cell_type": "markdown",
      "source": [
        "### 3.1 Going from raw model outputs to predicted labels (logits -> prediction probabilities -> prediction labels)"
      ],
      "metadata": {
        "id": "_JeUHYxWh3R8"
      }
    },
    {
      "cell_type": "code",
      "source": [
        "# View the frist 5 outputs of the forward pass on the test data\n",
        "y_logits = model_0(X_test.to(device))[:5]\n",
        "y_logits #最原始"
      ],
      "metadata": {
        "colab": {
          "base_uri": "https://localhost:8080/"
        },
        "id": "WATSsWica71G",
        "outputId": "bc2d55e4-9c31-4a3b-a057-7011e3f7e413"
      },
      "execution_count": 27,
      "outputs": [
        {
          "output_type": "execute_result",
          "data": {
            "text/plain": [
              "tensor([[ 0.0942],\n",
              "        [ 0.2344],\n",
              "        [-0.3196],\n",
              "        [ 0.2117],\n",
              "        [-0.3934]], device='cuda:0', grad_fn=<SliceBackward0>)"
            ]
          },
          "metadata": {},
          "execution_count": 27
        }
      ]
    },
    {
      "cell_type": "code",
      "source": [
        "len(y_logits)"
      ],
      "metadata": {
        "colab": {
          "base_uri": "https://localhost:8080/"
        },
        "id": "AGMqUyG3BgmP",
        "outputId": "1c4ddf31-82c4-4b83-b6c2-b543416ce003"
      },
      "execution_count": 28,
      "outputs": [
        {
          "output_type": "execute_result",
          "data": {
            "text/plain": [
              "5"
            ]
          },
          "metadata": {},
          "execution_count": 28
        }
      ]
    },
    {
      "cell_type": "code",
      "source": [
        "# import numpy as np\n",
        "# def sigmoid(z):\n",
        "#     return 1.0 / (1 + np.exp(-z))"
      ],
      "metadata": {
        "id": "Sdxbm1CtBLYO"
      },
      "execution_count": 29,
      "outputs": []
    },
    {
      "cell_type": "code",
      "source": [
        "# Use sigmoid on model logits\n",
        "y_pred_probs = torch.sigmoid(y_logits)\n",
        "y_pred_probs #經過sigmoid"
      ],
      "metadata": {
        "colab": {
          "base_uri": "https://localhost:8080/"
        },
        "id": "AynMcFmpa75t",
        "outputId": "62e0d8bd-a2c5-4c45-bd82-38e27af46432"
      },
      "execution_count": 30,
      "outputs": [
        {
          "output_type": "execute_result",
          "data": {
            "text/plain": [
              "tensor([[0.5235],\n",
              "        [0.5583],\n",
              "        [0.4208],\n",
              "        [0.5527],\n",
              "        [0.4029]], device='cuda:0', grad_fn=<SigmoidBackward0>)"
            ]
          },
          "metadata": {},
          "execution_count": 30
        }
      ]
    },
    {
      "cell_type": "markdown",
      "source": [
        "* If y_pred_probs >= 0.5, y=1 (class 1)\n",
        "* If y_pred_probs < 0.5, y=0 (class 0)\n",
        "* To turn our prediction probabilities in prediction labels, we can round the outputs of the sigmoid activation function."
      ],
      "metadata": {
        "id": "nBmGAOHzhjwK"
      }
    },
    {
      "cell_type": "code",
      "source": [
        "# Find the predicted labels (round the prediction probabilities)\n",
        "y_preds = torch.round(y_pred_probs)\n",
        "y_preds,y_preds.squeeze(),y_train[:5]"
      ],
      "metadata": {
        "colab": {
          "base_uri": "https://localhost:8080/"
        },
        "id": "XquwAXU00hml",
        "outputId": "5e9a121f-3468-47ed-fc68-7c87db03fca4"
      },
      "execution_count": 31,
      "outputs": [
        {
          "output_type": "execute_result",
          "data": {
            "text/plain": [
              "(tensor([[1.],\n",
              "         [1.],\n",
              "         [0.],\n",
              "         [1.],\n",
              "         [0.]], device='cuda:0', grad_fn=<RoundBackward0>),\n",
              " tensor([1., 1., 0., 1., 0.], device='cuda:0', grad_fn=<SqueezeBackward0>),\n",
              " tensor([1., 0., 0., 0., 1.]))"
            ]
          },
          "metadata": {},
          "execution_count": 31
        }
      ]
    },
    {
      "cell_type": "code",
      "source": [
        "# In full\n",
        "y_pred_labels = torch.round(torch.sigmoid(model_0(X_test.to(device))[:5]))\n",
        "\n",
        "# Check for equality\n",
        "print(torch.eq(y_preds.squeeze(), y_pred_labels.squeeze()))\n",
        "\n",
        "# Get rid of extra dimension\n",
        "y_preds.squeeze()"
      ],
      "metadata": {
        "colab": {
          "base_uri": "https://localhost:8080/"
        },
        "id": "odXivehzhn02",
        "outputId": "9c919646-afbe-40bc-e142-f867a1c89adf"
      },
      "execution_count": 32,
      "outputs": [
        {
          "output_type": "stream",
          "name": "stdout",
          "text": [
            "tensor([True, True, True, True, True], device='cuda:0')\n"
          ]
        },
        {
          "output_type": "execute_result",
          "data": {
            "text/plain": [
              "tensor([1., 1., 0., 1., 0.], device='cuda:0', grad_fn=<SqueezeBackward0>)"
            ]
          },
          "metadata": {},
          "execution_count": 32
        }
      ]
    },
    {
      "cell_type": "code",
      "source": [
        "y_test[:5]"
      ],
      "metadata": {
        "colab": {
          "base_uri": "https://localhost:8080/"
        },
        "id": "WDPvsXM_hn3K",
        "outputId": "6e5b6472-ed73-4f69-a595-c53b52f7d650"
      },
      "execution_count": 33,
      "outputs": [
        {
          "output_type": "execute_result",
          "data": {
            "text/plain": [
              "tensor([1., 0., 1., 0., 1.])"
            ]
          },
          "metadata": {},
          "execution_count": 33
        }
      ]
    },
    {
      "cell_type": "code",
      "source": [
        "model_0.to(device)\n",
        "next(model_0.parameters()).device"
      ],
      "metadata": {
        "colab": {
          "base_uri": "https://localhost:8080/"
        },
        "id": "eVkRfDnAt3k6",
        "outputId": "7feac4f8-8dbf-4a29-cfd8-1d40c5f6a2f3"
      },
      "execution_count": 34,
      "outputs": [
        {
          "output_type": "execute_result",
          "data": {
            "text/plain": [
              "device(type='cuda', index=0)"
            ]
          },
          "metadata": {},
          "execution_count": 34
        }
      ]
    },
    {
      "cell_type": "markdown",
      "source": [
        "### 3.2 Building a training and testing loop"
      ],
      "metadata": {
        "id": "0kaIkMr6ipxu"
      }
    },
    {
      "cell_type": "code",
      "source": [
        "torch.manual_seed(42)\n",
        "\n",
        "# Set the number of epochs\n",
        "epochs = 100\n",
        "\n",
        "# Put data to target device\n",
        "X_train, y_train = X_train.to(device), y_train.to(device)\n",
        "X_test, y_test = X_test.to(device), y_test.to(device)\n",
        "\n",
        "# Build training and evaluation loop\n",
        "for epoch in range(epochs):\n",
        "    ### Training\n",
        "    model_0.train()\n",
        "\n",
        "    # 1. Forward pass (model outputs raw logits)\n",
        "    y_logits = model_0(X_train).squeeze() # squeeze to remove extra `1` dimensions, this won't work unless model and data are on same device \n",
        "    y_pred = torch.round(torch.sigmoid(y_logits)) # turn logits -> pred probs -> pred labls\n",
        "  \n",
        "    # 2. Calculate loss/accuracy\n",
        "    # loss = loss_fn(torch.sigmoid(y_logits), # Using nn.BCELoss you need torch.sigmoid()\n",
        "    #                y_train) \n",
        "    loss = loss_fn(y_logits,y_train) # Using nn.BCEWithLogitsLoss works with raw logits\n",
        "                    \n",
        "    acc = accuracy_fn(y_true = y_train, y_pred = y_pred)  \n",
        "                      \n",
        "\n",
        "    # 3. Optimizer zero grad\n",
        "    optimizer.zero_grad()\n",
        "\n",
        "    # 4. Loss backwards\n",
        "    loss.backward()\n",
        "\n",
        "    # 5. Optimizer step\n",
        "    optimizer.step()\n",
        "\n",
        "    ### Testing\n",
        "    model_0.eval()\n",
        "    with torch.inference_mode():\n",
        "        # 1. Forward pass\n",
        "        test_logits = model_0(X_test).squeeze() \n",
        "        test_pred = torch.round(torch.sigmoid(test_logits))\n",
        "        # 2. Caculate loss/accuracy\n",
        "        test_loss = loss_fn(test_logits,\n",
        "                   y_test)\n",
        "        test_acc = accuracy_fn( y_true=y_test,\n",
        "                      y_pred=test_pred)\n",
        "\n",
        "    # Print out what's happening every 10 epochs\n",
        "    if epoch % 10 == 0:\n",
        "        print(f\"Epoch: {epoch} | Loss: {loss:.5f}, Accuracy: {acc:.2f}% | Test loss: {test_loss:.5f}, Test acc: {test_acc:.2f}%\")"
      ],
      "metadata": {
        "colab": {
          "base_uri": "https://localhost:8080/"
        },
        "id": "6Kk55aqKhn5l",
        "outputId": "cdfcd9a0-dd33-4d77-e0c4-72d9cc7112d6"
      },
      "execution_count": 35,
      "outputs": [
        {
          "output_type": "stream",
          "name": "stdout",
          "text": [
            "Epoch: 0 | Loss: 0.70144, Accuracy: 48.50% | Test loss: 0.71154, Test acc: 45.50%\n",
            "Epoch: 10 | Loss: 0.69860, Accuracy: 49.62% | Test loss: 0.70772, Test acc: 45.00%\n",
            "Epoch: 20 | Loss: 0.69680, Accuracy: 50.38% | Test loss: 0.70496, Test acc: 45.00%\n",
            "Epoch: 30 | Loss: 0.69561, Accuracy: 50.62% | Test loss: 0.70290, Test acc: 45.50%\n",
            "Epoch: 40 | Loss: 0.69482, Accuracy: 50.38% | Test loss: 0.70132, Test acc: 45.50%\n",
            "Epoch: 50 | Loss: 0.69427, Accuracy: 50.62% | Test loss: 0.70008, Test acc: 44.50%\n",
            "Epoch: 60 | Loss: 0.69389, Accuracy: 50.88% | Test loss: 0.69910, Test acc: 45.00%\n",
            "Epoch: 70 | Loss: 0.69362, Accuracy: 50.88% | Test loss: 0.69832, Test acc: 45.50%\n",
            "Epoch: 80 | Loss: 0.69344, Accuracy: 51.25% | Test loss: 0.69770, Test acc: 45.50%\n",
            "Epoch: 90 | Loss: 0.69330, Accuracy: 51.25% | Test loss: 0.69719, Test acc: 45.00%\n"
          ]
        }
      ]
    },
    {
      "cell_type": "markdown",
      "source": [
        "## 5. Improving a model (from a model perspective)\n",
        "* Add more layers\n",
        "* Add more hidden units\n",
        "* Fitting for longer (more epochs)\n",
        "* Changing the activation functions\n",
        "* Change the learning rate\n",
        "* Change the loss function"
      ],
      "metadata": {
        "id": "EGUcZWX7iKBU"
      }
    },
    {
      "cell_type": "code",
      "source": [
        "class CircleModelV1(nn.Module):\n",
        "  def __init__(self):\n",
        "    super().__init__()\n",
        "    self.layer_1 = nn.Linear(in_features = 2 ,out_features = 64)\n",
        "    self.layer_2 = nn.Linear(in_features = 64 , out_features = 64)# extra layer\n",
        "    self.layer_3 = nn.Linear(in_features =64 , out_features = 1)\n",
        "  \n",
        "  def forward(self,x):# note: always make sure forward is spelt correctly!\n",
        "      # Creating a model like this is the same as below, though below\n",
        "      # generally benefits from speedups where possible.\n",
        "      # z = self.layer_1(x)\n",
        "      # z = self.layer_2(z)\n",
        "      # z = self.layer_3(z)\n",
        "      # return z\n",
        "    return self.layer_3(self.layer_2(self.layer_1(x)))\n",
        "\n",
        "model_1 = CircleModelV1().to(device)\n",
        "model_1"
      ],
      "metadata": {
        "colab": {
          "base_uri": "https://localhost:8080/"
        },
        "id": "xkHgSXEPhxkg",
        "outputId": "e54a893a-8e59-44e3-c12a-af0f695b4c46"
      },
      "execution_count": 53,
      "outputs": [
        {
          "output_type": "execute_result",
          "data": {
            "text/plain": [
              "CircleModelV1(\n",
              "  (layer_1): Linear(in_features=2, out_features=64, bias=True)\n",
              "  (layer_2): Linear(in_features=64, out_features=64, bias=True)\n",
              "  (layer_3): Linear(in_features=64, out_features=1, bias=True)\n",
              ")"
            ]
          },
          "metadata": {},
          "execution_count": 53
        }
      ]
    },
    {
      "cell_type": "code",
      "source": [
        "model_1.state_dict()"
      ],
      "metadata": {
        "colab": {
          "base_uri": "https://localhost:8080/"
        },
        "id": "zPsS0O2RkrRf",
        "outputId": "1e7248b2-153b-4130-de99-3a541bdf5e20"
      },
      "execution_count": 48,
      "outputs": [
        {
          "output_type": "execute_result",
          "data": {
            "text/plain": [
              "OrderedDict([('layer_1.weight',\n",
              "              tensor([[-0.3041, -0.0775],\n",
              "                      [-0.5293,  0.6441],\n",
              "                      [-0.5190,  0.3779],\n",
              "                      [ 0.2485,  0.2298],\n",
              "                      [-0.3823,  0.6427],\n",
              "                      [ 0.1554,  0.0910],\n",
              "                      [-0.6231,  0.2968],\n",
              "                      [-0.1061, -0.3239],\n",
              "                      [ 0.6074,  0.1576],\n",
              "                      [-0.3912, -0.3579],\n",
              "                      [-0.0338,  0.3948],\n",
              "                      [-0.1807, -0.4035],\n",
              "                      [-0.2421, -0.5283],\n",
              "                      [ 0.2522,  0.5473],\n",
              "                      [-0.6657,  0.1642],\n",
              "                      [ 0.3653,  0.1282],\n",
              "                      [-0.2518,  0.3691],\n",
              "                      [ 0.3716,  0.2644],\n",
              "                      [-0.1243, -0.1872],\n",
              "                      [ 0.0756, -0.1249],\n",
              "                      [-0.2107,  0.4520],\n",
              "                      [ 0.6077, -0.0700],\n",
              "                      [-0.1583,  0.0103],\n",
              "                      [-0.0422,  0.1700],\n",
              "                      [ 0.1982, -0.6422],\n",
              "                      [-0.2609,  0.5955],\n",
              "                      [ 0.2755, -0.0352],\n",
              "                      [-0.4263, -0.4326],\n",
              "                      [-0.6334, -0.2305],\n",
              "                      [ 0.2388,  0.4509],\n",
              "                      [ 0.3265, -0.6250],\n",
              "                      [-0.4252, -0.1116],\n",
              "                      [ 0.6840,  0.1023],\n",
              "                      [-0.1831,  0.2925],\n",
              "                      [-0.2693, -0.4577],\n",
              "                      [ 0.5161, -0.3215],\n",
              "                      [-0.1418, -0.7034],\n",
              "                      [ 0.4732,  0.5357],\n",
              "                      [ 0.2577, -0.4930],\n",
              "                      [-0.6979, -0.5743],\n",
              "                      [ 0.5273,  0.3395],\n",
              "                      [ 0.5950,  0.3704],\n",
              "                      [ 0.1790, -0.0069],\n",
              "                      [-0.5378, -0.6058],\n",
              "                      [-0.6614,  0.2895],\n",
              "                      [-0.3472, -0.1423],\n",
              "                      [-0.4069, -0.1289],\n",
              "                      [-0.4977, -0.4620],\n",
              "                      [ 0.2346, -0.2101],\n",
              "                      [ 0.4365, -0.2268],\n",
              "                      [-0.5187, -0.1248],\n",
              "                      [-0.3428, -0.2163],\n",
              "                      [-0.6732,  0.3956],\n",
              "                      [-0.4923,  0.3554],\n",
              "                      [ 0.3209,  0.5052],\n",
              "                      [-0.5424,  0.5085],\n",
              "                      [-0.3343,  0.2624],\n",
              "                      [ 0.6641, -0.0997],\n",
              "                      [-0.0055, -0.1628],\n",
              "                      [-0.5904,  0.3393],\n",
              "                      [-0.7020,  0.4390],\n",
              "                      [ 0.5291,  0.6687],\n",
              "                      [-0.1668, -0.5810],\n",
              "                      [ 0.1590,  0.3906]], device='cuda:0')),\n",
              "             ('layer_1.bias',\n",
              "              tensor([-0.7038, -0.1605, -0.4239, -0.0618, -0.3480, -0.2890, -0.2245, -0.6720,\n",
              "                       0.5802,  0.5928, -0.1109, -0.0805, -0.2886, -0.6386, -0.6881,  0.2628,\n",
              "                      -0.3882, -0.4546, -0.0552, -0.2355, -0.2288,  0.0227, -0.1500, -0.2435,\n",
              "                      -0.3386, -0.5755,  0.5929, -0.2830,  0.1874, -0.2453,  0.0575,  0.6592,\n",
              "                       0.3258, -0.6128,  0.2807,  0.6712,  0.1860,  0.4741,  0.6971, -0.1083,\n",
              "                       0.1468, -0.4915, -0.1457,  0.5237,  0.3625, -0.4474, -0.5670, -0.4832,\n",
              "                      -0.6978, -0.5456, -0.1749,  0.4772,  0.1184, -0.5378, -0.5673,  0.3518,\n",
              "                      -0.5260, -0.0871,  0.3392, -0.3273, -0.0771, -0.0615, -0.1673, -0.3585],\n",
              "                     device='cuda:0')),\n",
              "             ('layer_2.weight',\n",
              "              tensor([[-0.1114, -0.1010, -0.0669,  ..., -0.0308, -0.1132, -0.1175],\n",
              "                      [-0.0598, -0.0635,  0.0389,  ...,  0.1206,  0.1069,  0.1119],\n",
              "                      [ 0.0734,  0.0944, -0.0167,  ..., -0.0160,  0.1188,  0.0840],\n",
              "                      ...,\n",
              "                      [-0.0620,  0.1081, -0.0392,  ...,  0.0658, -0.1040, -0.0231],\n",
              "                      [ 0.0126, -0.0388,  0.0680,  ..., -0.1179,  0.0218, -0.0969],\n",
              "                      [ 0.0483,  0.0856, -0.0930,  ..., -0.0188, -0.0851,  0.0801]],\n",
              "                     device='cuda:0')),\n",
              "             ('layer_2.bias',\n",
              "              tensor([ 0.1054, -0.0891,  0.0708, -0.0203, -0.0012,  0.0532, -0.0228,  0.1062,\n",
              "                       0.0769, -0.0811, -0.0761, -0.1239,  0.0400, -0.0940, -0.1048, -0.0801,\n",
              "                      -0.1236, -0.1018,  0.1115,  0.0698,  0.1108, -0.0606, -0.0513, -0.0439,\n",
              "                       0.0024, -0.0897,  0.0183, -0.0801,  0.0198,  0.1145,  0.0211,  0.0912,\n",
              "                      -0.0890, -0.0176, -0.0772, -0.0139, -0.0497, -0.0710, -0.1207, -0.0463,\n",
              "                       0.0167, -0.0220, -0.1164,  0.0939,  0.0927, -0.0754,  0.0127,  0.0830,\n",
              "                      -0.1187, -0.1105,  0.0694, -0.0025,  0.0398, -0.0520,  0.0227,  0.0829,\n",
              "                      -0.0306, -0.0404, -0.1190, -0.0193,  0.0792, -0.1181, -0.0097,  0.0911],\n",
              "                     device='cuda:0')),\n",
              "             ('layer_3.weight',\n",
              "              tensor([[-0.0357, -0.0462, -0.0377, -0.0506,  0.0150, -0.1204,  0.0478, -0.0316,\n",
              "                       -0.0159, -0.0084,  0.0698, -0.0776, -0.1137, -0.0904, -0.0917, -0.0609,\n",
              "                        0.0987, -0.0967, -0.0735, -0.1019, -0.0628, -0.0035, -0.0762,  0.0013,\n",
              "                        0.0422, -0.0213,  0.0539,  0.0287,  0.1208, -0.0064,  0.1083,  0.0936,\n",
              "                        0.0598,  0.0707, -0.0837, -0.0837,  0.0534,  0.0454,  0.1128, -0.0163,\n",
              "                       -0.0230,  0.0857,  0.0040,  0.1174, -0.0638, -0.0410,  0.0054,  0.0667,\n",
              "                       -0.1096, -0.0350,  0.0908,  0.0260,  0.0884, -0.0423, -0.0788, -0.0853,\n",
              "                       -0.0703, -0.0939,  0.0619,  0.0336, -0.0800,  0.1146,  0.0356,  0.0465]],\n",
              "                     device='cuda:0')),\n",
              "             ('layer_3.bias', tensor([-0.0527], device='cuda:0'))])"
            ]
          },
          "metadata": {},
          "execution_count": 48
        }
      ]
    },
    {
      "cell_type": "code",
      "source": [
        "# loss_fn = nn.BCELoss() # Requires sigmoid on input\n",
        "loss_fn = nn.BCEWithLogitsLoss()\n",
        "\n",
        "optimizer = torch.optim.SGD(model_1.parameters() , lr =0.1)"
      ],
      "metadata": {
        "id": "5VOk0fmjhxn6"
      },
      "execution_count": 49,
      "outputs": []
    },
    {
      "cell_type": "code",
      "source": [
        "torch.manual_seed(42)\n",
        "\n",
        "epochs = 1000 # Train for longer\n",
        "\n",
        "# Put data to target device\n",
        "X_train, y_train = X_train.to(device), y_train.to(device)\n",
        "X_test, y_test = X_test.to(device), y_test.to(device)\n",
        "\n",
        "for epoch in range(epochs):\n",
        "    ### Training\n",
        "    model_1.train()\n",
        "    # 1. Forward pass\n",
        "    y_logits = model_1(X_train).squeeze()\n",
        "    y_pred = torch.round(torch.sigmoid(y_logits)) # logits -> predicition probabilities -> prediction labels\n",
        "\n",
        "    # 2. Calculate loss/accuracy\n",
        "    loss = loss_fn(y_logits, y_train)\n",
        "    acc = accuracy_fn(y_true=y_train , y_pred=y_pred)\n",
        " \n",
        "                     \n",
        "    # 3. Optimizer zero grad\n",
        "    optimizer.zero_grad()\n",
        "\n",
        "    # 4. Loss backwards\n",
        "    loss.backward()\n",
        "\n",
        "    # 5. Optimizer step\n",
        "    optimizer.step()\n",
        "\n",
        "    ### Testing\n",
        "    model_1.eval()\n",
        "    with torch.inference_mode():\n",
        "        # 1. Forward pass\n",
        "        test_logits = model_1(X_test).squeeze() \n",
        "        test_pred = torch.round(torch.sigmoid(test_logits))\n",
        "        # 2. Caculate loss/accuracy\n",
        "        test_loss = loss_fn(test_logits,y_test)\n",
        "                            \n",
        "        test_acc = accuracy_fn(y_true=y_test,y_pred=test_pred)\n",
        "                               \n",
        "\n",
        "    # Print out what's happening every 10 epochs\n",
        "    if epoch % 100 == 0:\n",
        "        print(f\"Epoch: {epoch} | Loss: {loss:.5f}, Accuracy: {acc:.2f}% | Test loss: {test_loss:.5f}, Test acc: {test_acc:.2f}%\")\n"
      ],
      "metadata": {
        "colab": {
          "base_uri": "https://localhost:8080/"
        },
        "id": "SwvZtssWhxrl",
        "outputId": "09ac5604-c072-41f2-c391-a34076eaca69"
      },
      "execution_count": 54,
      "outputs": [
        {
          "output_type": "stream",
          "name": "stdout",
          "text": [
            "Epoch: 0 | Loss: 0.69852, Accuracy: 50.88% | Test loss: 0.70969, Test acc: 45.50%\n",
            "Epoch: 100 | Loss: 0.69852, Accuracy: 50.88% | Test loss: 0.70969, Test acc: 45.50%\n",
            "Epoch: 200 | Loss: 0.69852, Accuracy: 50.88% | Test loss: 0.70969, Test acc: 45.50%\n",
            "Epoch: 300 | Loss: 0.69852, Accuracy: 50.88% | Test loss: 0.70969, Test acc: 45.50%\n",
            "Epoch: 400 | Loss: 0.69852, Accuracy: 50.88% | Test loss: 0.70969, Test acc: 45.50%\n",
            "Epoch: 500 | Loss: 0.69852, Accuracy: 50.88% | Test loss: 0.70969, Test acc: 45.50%\n",
            "Epoch: 600 | Loss: 0.69852, Accuracy: 50.88% | Test loss: 0.70969, Test acc: 45.50%\n",
            "Epoch: 700 | Loss: 0.69852, Accuracy: 50.88% | Test loss: 0.70969, Test acc: 45.50%\n",
            "Epoch: 800 | Loss: 0.69852, Accuracy: 50.88% | Test loss: 0.70969, Test acc: 45.50%\n",
            "Epoch: 900 | Loss: 0.69852, Accuracy: 50.88% | Test loss: 0.70969, Test acc: 45.50%\n"
          ]
        }
      ]
    },
    {
      "cell_type": "code",
      "source": [],
      "metadata": {
        "id": "2-Sh7JOhhxum"
      },
      "execution_count": null,
      "outputs": []
    }
  ]
}